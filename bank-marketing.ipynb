{
 "cells": [
  {
   "cell_type": "code",
   "execution_count": 1,
   "id": "1e2efa18",
   "metadata": {
    "execution": {
     "iopub.execute_input": "2022-11-07T16:32:20.039674Z",
     "iopub.status.busy": "2022-11-07T16:32:20.038939Z",
     "iopub.status.idle": "2022-11-07T16:32:21.215886Z",
     "shell.execute_reply": "2022-11-07T16:32:21.214477Z"
    },
    "papermill": {
     "duration": 1.18694,
     "end_time": "2022-11-07T16:32:21.218535",
     "exception": false,
     "start_time": "2022-11-07T16:32:20.031595",
     "status": "completed"
    },
    "tags": []
   },
   "outputs": [],
   "source": [
    "import pandas as pd\n",
    "import numpy as np\n",
    "import matplotlib.pyplot as plt\n",
    "import seaborn as sns\n",
    "%matplotlib inline"
   ]
  },
  {
   "cell_type": "code",
   "execution_count": 2,
   "id": "40258f8a",
   "metadata": {
    "execution": {
     "iopub.execute_input": "2022-11-07T16:32:21.229879Z",
     "iopub.status.busy": "2022-11-07T16:32:21.229488Z",
     "iopub.status.idle": "2022-11-07T16:32:21.376962Z",
     "shell.execute_reply": "2022-11-07T16:32:21.375563Z"
    },
    "papermill": {
     "duration": 0.156106,
     "end_time": "2022-11-07T16:32:21.379610",
     "exception": false,
     "start_time": "2022-11-07T16:32:21.223504",
     "status": "completed"
    },
    "tags": []
   },
   "outputs": [],
   "source": [
    "df = pd.read_csv('../input/bank-marketing-data-set/bank-direct-marketing-campaigns.csv')"
   ]
  },
  {
   "cell_type": "code",
   "execution_count": 3,
   "id": "f88eb9b8",
   "metadata": {
    "execution": {
     "iopub.execute_input": "2022-11-07T16:32:21.390734Z",
     "iopub.status.busy": "2022-11-07T16:32:21.390322Z",
     "iopub.status.idle": "2022-11-07T16:32:21.425133Z",
     "shell.execute_reply": "2022-11-07T16:32:21.423691Z"
    },
    "papermill": {
     "duration": 0.042834,
     "end_time": "2022-11-07T16:32:21.427347",
     "exception": false,
     "start_time": "2022-11-07T16:32:21.384513",
     "status": "completed"
    },
    "tags": []
   },
   "outputs": [
    {
     "data": {
      "text/html": [
       "<div>\n",
       "<style scoped>\n",
       "    .dataframe tbody tr th:only-of-type {\n",
       "        vertical-align: middle;\n",
       "    }\n",
       "\n",
       "    .dataframe tbody tr th {\n",
       "        vertical-align: top;\n",
       "    }\n",
       "\n",
       "    .dataframe thead th {\n",
       "        text-align: right;\n",
       "    }\n",
       "</style>\n",
       "<table border=\"1\" class=\"dataframe\">\n",
       "  <thead>\n",
       "    <tr style=\"text-align: right;\">\n",
       "      <th></th>\n",
       "      <th>age</th>\n",
       "      <th>job</th>\n",
       "      <th>marital</th>\n",
       "      <th>education</th>\n",
       "      <th>default</th>\n",
       "      <th>housing</th>\n",
       "      <th>loan</th>\n",
       "      <th>contact</th>\n",
       "      <th>month</th>\n",
       "      <th>day_of_week</th>\n",
       "      <th>campaign</th>\n",
       "      <th>pdays</th>\n",
       "      <th>previous</th>\n",
       "      <th>poutcome</th>\n",
       "      <th>emp.var.rate</th>\n",
       "      <th>cons.price.idx</th>\n",
       "      <th>cons.conf.idx</th>\n",
       "      <th>euribor3m</th>\n",
       "      <th>nr.employed</th>\n",
       "      <th>y</th>\n",
       "    </tr>\n",
       "  </thead>\n",
       "  <tbody>\n",
       "    <tr>\n",
       "      <th>0</th>\n",
       "      <td>56</td>\n",
       "      <td>housemaid</td>\n",
       "      <td>married</td>\n",
       "      <td>basic.4y</td>\n",
       "      <td>no</td>\n",
       "      <td>no</td>\n",
       "      <td>no</td>\n",
       "      <td>telephone</td>\n",
       "      <td>may</td>\n",
       "      <td>mon</td>\n",
       "      <td>1</td>\n",
       "      <td>999</td>\n",
       "      <td>0</td>\n",
       "      <td>nonexistent</td>\n",
       "      <td>1.1</td>\n",
       "      <td>93.994</td>\n",
       "      <td>-36.4</td>\n",
       "      <td>4.857</td>\n",
       "      <td>5191.0</td>\n",
       "      <td>no</td>\n",
       "    </tr>\n",
       "    <tr>\n",
       "      <th>1</th>\n",
       "      <td>57</td>\n",
       "      <td>services</td>\n",
       "      <td>married</td>\n",
       "      <td>high.school</td>\n",
       "      <td>unknown</td>\n",
       "      <td>no</td>\n",
       "      <td>no</td>\n",
       "      <td>telephone</td>\n",
       "      <td>may</td>\n",
       "      <td>mon</td>\n",
       "      <td>1</td>\n",
       "      <td>999</td>\n",
       "      <td>0</td>\n",
       "      <td>nonexistent</td>\n",
       "      <td>1.1</td>\n",
       "      <td>93.994</td>\n",
       "      <td>-36.4</td>\n",
       "      <td>4.857</td>\n",
       "      <td>5191.0</td>\n",
       "      <td>no</td>\n",
       "    </tr>\n",
       "    <tr>\n",
       "      <th>2</th>\n",
       "      <td>37</td>\n",
       "      <td>services</td>\n",
       "      <td>married</td>\n",
       "      <td>high.school</td>\n",
       "      <td>no</td>\n",
       "      <td>yes</td>\n",
       "      <td>no</td>\n",
       "      <td>telephone</td>\n",
       "      <td>may</td>\n",
       "      <td>mon</td>\n",
       "      <td>1</td>\n",
       "      <td>999</td>\n",
       "      <td>0</td>\n",
       "      <td>nonexistent</td>\n",
       "      <td>1.1</td>\n",
       "      <td>93.994</td>\n",
       "      <td>-36.4</td>\n",
       "      <td>4.857</td>\n",
       "      <td>5191.0</td>\n",
       "      <td>no</td>\n",
       "    </tr>\n",
       "    <tr>\n",
       "      <th>3</th>\n",
       "      <td>40</td>\n",
       "      <td>admin.</td>\n",
       "      <td>married</td>\n",
       "      <td>basic.6y</td>\n",
       "      <td>no</td>\n",
       "      <td>no</td>\n",
       "      <td>no</td>\n",
       "      <td>telephone</td>\n",
       "      <td>may</td>\n",
       "      <td>mon</td>\n",
       "      <td>1</td>\n",
       "      <td>999</td>\n",
       "      <td>0</td>\n",
       "      <td>nonexistent</td>\n",
       "      <td>1.1</td>\n",
       "      <td>93.994</td>\n",
       "      <td>-36.4</td>\n",
       "      <td>4.857</td>\n",
       "      <td>5191.0</td>\n",
       "      <td>no</td>\n",
       "    </tr>\n",
       "    <tr>\n",
       "      <th>4</th>\n",
       "      <td>56</td>\n",
       "      <td>services</td>\n",
       "      <td>married</td>\n",
       "      <td>high.school</td>\n",
       "      <td>no</td>\n",
       "      <td>no</td>\n",
       "      <td>yes</td>\n",
       "      <td>telephone</td>\n",
       "      <td>may</td>\n",
       "      <td>mon</td>\n",
       "      <td>1</td>\n",
       "      <td>999</td>\n",
       "      <td>0</td>\n",
       "      <td>nonexistent</td>\n",
       "      <td>1.1</td>\n",
       "      <td>93.994</td>\n",
       "      <td>-36.4</td>\n",
       "      <td>4.857</td>\n",
       "      <td>5191.0</td>\n",
       "      <td>no</td>\n",
       "    </tr>\n",
       "  </tbody>\n",
       "</table>\n",
       "</div>"
      ],
      "text/plain": [
       "   age        job  marital    education  default housing loan    contact  \\\n",
       "0   56  housemaid  married     basic.4y       no      no   no  telephone   \n",
       "1   57   services  married  high.school  unknown      no   no  telephone   \n",
       "2   37   services  married  high.school       no     yes   no  telephone   \n",
       "3   40     admin.  married     basic.6y       no      no   no  telephone   \n",
       "4   56   services  married  high.school       no      no  yes  telephone   \n",
       "\n",
       "  month day_of_week  campaign  pdays  previous     poutcome  emp.var.rate  \\\n",
       "0   may         mon         1    999         0  nonexistent           1.1   \n",
       "1   may         mon         1    999         0  nonexistent           1.1   \n",
       "2   may         mon         1    999         0  nonexistent           1.1   \n",
       "3   may         mon         1    999         0  nonexistent           1.1   \n",
       "4   may         mon         1    999         0  nonexistent           1.1   \n",
       "\n",
       "   cons.price.idx  cons.conf.idx  euribor3m  nr.employed   y  \n",
       "0          93.994          -36.4      4.857       5191.0  no  \n",
       "1          93.994          -36.4      4.857       5191.0  no  \n",
       "2          93.994          -36.4      4.857       5191.0  no  \n",
       "3          93.994          -36.4      4.857       5191.0  no  \n",
       "4          93.994          -36.4      4.857       5191.0  no  "
      ]
     },
     "execution_count": 3,
     "metadata": {},
     "output_type": "execute_result"
    }
   ],
   "source": [
    "df.head()"
   ]
  },
  {
   "cell_type": "code",
   "execution_count": 4,
   "id": "5c36f9a7",
   "metadata": {
    "execution": {
     "iopub.execute_input": "2022-11-07T16:32:21.439800Z",
     "iopub.status.busy": "2022-11-07T16:32:21.439468Z",
     "iopub.status.idle": "2022-11-07T16:32:21.451036Z",
     "shell.execute_reply": "2022-11-07T16:32:21.449893Z"
    },
    "papermill": {
     "duration": 0.020302,
     "end_time": "2022-11-07T16:32:21.453461",
     "exception": false,
     "start_time": "2022-11-07T16:32:21.433159",
     "status": "completed"
    },
    "tags": []
   },
   "outputs": [],
   "source": [
    "df.replace(\"?\", np.nan, inplace = True)"
   ]
  },
  {
   "cell_type": "code",
   "execution_count": 5,
   "id": "03b691e5",
   "metadata": {
    "execution": {
     "iopub.execute_input": "2022-11-07T16:32:21.465382Z",
     "iopub.status.busy": "2022-11-07T16:32:21.464989Z",
     "iopub.status.idle": "2022-11-07T16:32:21.509140Z",
     "shell.execute_reply": "2022-11-07T16:32:21.508106Z"
    },
    "papermill": {
     "duration": 0.052673,
     "end_time": "2022-11-07T16:32:21.511341",
     "exception": false,
     "start_time": "2022-11-07T16:32:21.458668",
     "status": "completed"
    },
    "tags": []
   },
   "outputs": [
    {
     "name": "stdout",
     "output_type": "stream",
     "text": [
      "<class 'pandas.core.frame.DataFrame'>\n",
      "RangeIndex: 41188 entries, 0 to 41187\n",
      "Data columns (total 20 columns):\n",
      " #   Column          Non-Null Count  Dtype  \n",
      "---  ------          --------------  -----  \n",
      " 0   age             41188 non-null  int64  \n",
      " 1   job             41188 non-null  object \n",
      " 2   marital         41188 non-null  object \n",
      " 3   education       41188 non-null  object \n",
      " 4   default         41188 non-null  object \n",
      " 5   housing         41188 non-null  object \n",
      " 6   loan            41188 non-null  object \n",
      " 7   contact         41188 non-null  object \n",
      " 8   month           41188 non-null  object \n",
      " 9   day_of_week     41188 non-null  object \n",
      " 10  campaign        41188 non-null  int64  \n",
      " 11  pdays           41188 non-null  int64  \n",
      " 12  previous        41188 non-null  int64  \n",
      " 13  poutcome        41188 non-null  object \n",
      " 14  emp.var.rate    41188 non-null  float64\n",
      " 15  cons.price.idx  41188 non-null  float64\n",
      " 16  cons.conf.idx   41188 non-null  float64\n",
      " 17  euribor3m       41188 non-null  float64\n",
      " 18  nr.employed     41188 non-null  float64\n",
      " 19  y               41188 non-null  object \n",
      "dtypes: float64(5), int64(4), object(11)\n",
      "memory usage: 6.3+ MB\n"
     ]
    }
   ],
   "source": [
    "df.info()"
   ]
  },
  {
   "cell_type": "code",
   "execution_count": 6,
   "id": "e7d2b198",
   "metadata": {
    "execution": {
     "iopub.execute_input": "2022-11-07T16:32:21.523653Z",
     "iopub.status.busy": "2022-11-07T16:32:21.523229Z",
     "iopub.status.idle": "2022-11-07T16:32:21.549659Z",
     "shell.execute_reply": "2022-11-07T16:32:21.548365Z"
    },
    "papermill": {
     "duration": 0.035743,
     "end_time": "2022-11-07T16:32:21.552383",
     "exception": false,
     "start_time": "2022-11-07T16:32:21.516640",
     "status": "completed"
    },
    "tags": []
   },
   "outputs": [
    {
     "data": {
      "text/plain": [
       "age               0\n",
       "job               0\n",
       "marital           0\n",
       "education         0\n",
       "default           0\n",
       "housing           0\n",
       "loan              0\n",
       "contact           0\n",
       "month             0\n",
       "day_of_week       0\n",
       "campaign          0\n",
       "pdays             0\n",
       "previous          0\n",
       "poutcome          0\n",
       "emp.var.rate      0\n",
       "cons.price.idx    0\n",
       "cons.conf.idx     0\n",
       "euribor3m         0\n",
       "nr.employed       0\n",
       "y                 0\n",
       "dtype: int64"
      ]
     },
     "execution_count": 6,
     "metadata": {},
     "output_type": "execute_result"
    }
   ],
   "source": [
    "df.isna().sum()"
   ]
  },
  {
   "cell_type": "code",
   "execution_count": 7,
   "id": "d0106c59",
   "metadata": {
    "execution": {
     "iopub.execute_input": "2022-11-07T16:32:21.565436Z",
     "iopub.status.busy": "2022-11-07T16:32:21.564510Z",
     "iopub.status.idle": "2022-11-07T16:32:21.607018Z",
     "shell.execute_reply": "2022-11-07T16:32:21.605139Z"
    },
    "papermill": {
     "duration": 0.051611,
     "end_time": "2022-11-07T16:32:21.609393",
     "exception": false,
     "start_time": "2022-11-07T16:32:21.557782",
     "status": "completed"
    },
    "tags": []
   },
   "outputs": [
    {
     "name": "stdout",
     "output_type": "stream",
     "text": [
      "age\n",
      "False    41188\n",
      "Name: age, dtype: int64\n",
      "\n",
      "job\n",
      "False    41188\n",
      "Name: job, dtype: int64\n",
      "\n",
      "marital\n",
      "False    41188\n",
      "Name: marital, dtype: int64\n",
      "\n",
      "education\n",
      "False    41188\n",
      "Name: education, dtype: int64\n",
      "\n",
      "default\n",
      "False    41188\n",
      "Name: default, dtype: int64\n",
      "\n",
      "housing\n",
      "False    41188\n",
      "Name: housing, dtype: int64\n",
      "\n",
      "loan\n",
      "False    41188\n",
      "Name: loan, dtype: int64\n",
      "\n",
      "contact\n",
      "False    41188\n",
      "Name: contact, dtype: int64\n",
      "\n",
      "month\n",
      "False    41188\n",
      "Name: month, dtype: int64\n",
      "\n",
      "day_of_week\n",
      "False    41188\n",
      "Name: day_of_week, dtype: int64\n",
      "\n",
      "campaign\n",
      "False    41188\n",
      "Name: campaign, dtype: int64\n",
      "\n",
      "pdays\n",
      "False    41188\n",
      "Name: pdays, dtype: int64\n",
      "\n",
      "previous\n",
      "False    41188\n",
      "Name: previous, dtype: int64\n",
      "\n",
      "poutcome\n",
      "False    41188\n",
      "Name: poutcome, dtype: int64\n",
      "\n",
      "emp.var.rate\n",
      "False    41188\n",
      "Name: emp.var.rate, dtype: int64\n",
      "\n",
      "cons.price.idx\n",
      "False    41188\n",
      "Name: cons.price.idx, dtype: int64\n",
      "\n",
      "cons.conf.idx\n",
      "False    41188\n",
      "Name: cons.conf.idx, dtype: int64\n",
      "\n",
      "euribor3m\n",
      "False    41188\n",
      "Name: euribor3m, dtype: int64\n",
      "\n",
      "nr.employed\n",
      "False    41188\n",
      "Name: nr.employed, dtype: int64\n",
      "\n",
      "y\n",
      "False    41188\n",
      "Name: y, dtype: int64\n",
      "\n"
     ]
    }
   ],
   "source": [
    "missing_data = df.isnull()\n",
    "for column in missing_data.columns.values.tolist():\n",
    "    print(column)\n",
    "    print (missing_data[column].value_counts())\n",
    "    print(\"\")    "
   ]
  },
  {
   "cell_type": "markdown",
   "id": "c4511804",
   "metadata": {
    "execution": {
     "iopub.execute_input": "2022-10-31T23:47:45.762579Z",
     "iopub.status.busy": "2022-10-31T23:47:45.762123Z",
     "iopub.status.idle": "2022-10-31T23:47:45.767205Z",
     "shell.execute_reply": "2022-10-31T23:47:45.766100Z",
     "shell.execute_reply.started": "2022-10-31T23:47:45.762532Z"
    },
    "papermill": {
     "duration": 0.004905,
     "end_time": "2022-11-07T16:32:21.620029",
     "exception": false,
     "start_time": "2022-11-07T16:32:21.615124",
     "status": "completed"
    },
    "tags": []
   },
   "source": [
    "#### There are no NA values"
   ]
  },
  {
   "cell_type": "code",
   "execution_count": 8,
   "id": "46116daa",
   "metadata": {
    "execution": {
     "iopub.execute_input": "2022-11-07T16:32:21.632736Z",
     "iopub.status.busy": "2022-11-07T16:32:21.632416Z",
     "iopub.status.idle": "2022-11-07T16:32:21.676018Z",
     "shell.execute_reply": "2022-11-07T16:32:21.674291Z"
    },
    "papermill": {
     "duration": 0.052853,
     "end_time": "2022-11-07T16:32:21.678885",
     "exception": false,
     "start_time": "2022-11-07T16:32:21.626032",
     "status": "completed"
    },
    "tags": []
   },
   "outputs": [
    {
     "data": {
      "text/html": [
       "<div>\n",
       "<style scoped>\n",
       "    .dataframe tbody tr th:only-of-type {\n",
       "        vertical-align: middle;\n",
       "    }\n",
       "\n",
       "    .dataframe tbody tr th {\n",
       "        vertical-align: top;\n",
       "    }\n",
       "\n",
       "    .dataframe thead th {\n",
       "        text-align: right;\n",
       "    }\n",
       "</style>\n",
       "<table border=\"1\" class=\"dataframe\">\n",
       "  <thead>\n",
       "    <tr style=\"text-align: right;\">\n",
       "      <th></th>\n",
       "      <th>age</th>\n",
       "      <th>campaign</th>\n",
       "      <th>pdays</th>\n",
       "      <th>previous</th>\n",
       "      <th>emp.var.rate</th>\n",
       "      <th>cons.price.idx</th>\n",
       "      <th>cons.conf.idx</th>\n",
       "      <th>euribor3m</th>\n",
       "      <th>nr.employed</th>\n",
       "    </tr>\n",
       "  </thead>\n",
       "  <tbody>\n",
       "    <tr>\n",
       "      <th>count</th>\n",
       "      <td>41188.00000</td>\n",
       "      <td>41188.000000</td>\n",
       "      <td>41188.000000</td>\n",
       "      <td>41188.000000</td>\n",
       "      <td>41188.000000</td>\n",
       "      <td>41188.000000</td>\n",
       "      <td>41188.000000</td>\n",
       "      <td>41188.000000</td>\n",
       "      <td>41188.000000</td>\n",
       "    </tr>\n",
       "    <tr>\n",
       "      <th>mean</th>\n",
       "      <td>40.02406</td>\n",
       "      <td>2.567593</td>\n",
       "      <td>962.475454</td>\n",
       "      <td>0.172963</td>\n",
       "      <td>0.081886</td>\n",
       "      <td>93.575664</td>\n",
       "      <td>-40.502600</td>\n",
       "      <td>3.621291</td>\n",
       "      <td>5167.035911</td>\n",
       "    </tr>\n",
       "    <tr>\n",
       "      <th>std</th>\n",
       "      <td>10.42125</td>\n",
       "      <td>2.770014</td>\n",
       "      <td>186.910907</td>\n",
       "      <td>0.494901</td>\n",
       "      <td>1.570960</td>\n",
       "      <td>0.578840</td>\n",
       "      <td>4.628198</td>\n",
       "      <td>1.734447</td>\n",
       "      <td>72.251528</td>\n",
       "    </tr>\n",
       "    <tr>\n",
       "      <th>min</th>\n",
       "      <td>17.00000</td>\n",
       "      <td>1.000000</td>\n",
       "      <td>0.000000</td>\n",
       "      <td>0.000000</td>\n",
       "      <td>-3.400000</td>\n",
       "      <td>92.201000</td>\n",
       "      <td>-50.800000</td>\n",
       "      <td>0.634000</td>\n",
       "      <td>4963.600000</td>\n",
       "    </tr>\n",
       "    <tr>\n",
       "      <th>25%</th>\n",
       "      <td>32.00000</td>\n",
       "      <td>1.000000</td>\n",
       "      <td>999.000000</td>\n",
       "      <td>0.000000</td>\n",
       "      <td>-1.800000</td>\n",
       "      <td>93.075000</td>\n",
       "      <td>-42.700000</td>\n",
       "      <td>1.344000</td>\n",
       "      <td>5099.100000</td>\n",
       "    </tr>\n",
       "    <tr>\n",
       "      <th>50%</th>\n",
       "      <td>38.00000</td>\n",
       "      <td>2.000000</td>\n",
       "      <td>999.000000</td>\n",
       "      <td>0.000000</td>\n",
       "      <td>1.100000</td>\n",
       "      <td>93.749000</td>\n",
       "      <td>-41.800000</td>\n",
       "      <td>4.857000</td>\n",
       "      <td>5191.000000</td>\n",
       "    </tr>\n",
       "    <tr>\n",
       "      <th>75%</th>\n",
       "      <td>47.00000</td>\n",
       "      <td>3.000000</td>\n",
       "      <td>999.000000</td>\n",
       "      <td>0.000000</td>\n",
       "      <td>1.400000</td>\n",
       "      <td>93.994000</td>\n",
       "      <td>-36.400000</td>\n",
       "      <td>4.961000</td>\n",
       "      <td>5228.100000</td>\n",
       "    </tr>\n",
       "    <tr>\n",
       "      <th>max</th>\n",
       "      <td>98.00000</td>\n",
       "      <td>56.000000</td>\n",
       "      <td>999.000000</td>\n",
       "      <td>7.000000</td>\n",
       "      <td>1.400000</td>\n",
       "      <td>94.767000</td>\n",
       "      <td>-26.900000</td>\n",
       "      <td>5.045000</td>\n",
       "      <td>5228.100000</td>\n",
       "    </tr>\n",
       "  </tbody>\n",
       "</table>\n",
       "</div>"
      ],
      "text/plain": [
       "               age      campaign         pdays      previous  emp.var.rate  \\\n",
       "count  41188.00000  41188.000000  41188.000000  41188.000000  41188.000000   \n",
       "mean      40.02406      2.567593    962.475454      0.172963      0.081886   \n",
       "std       10.42125      2.770014    186.910907      0.494901      1.570960   \n",
       "min       17.00000      1.000000      0.000000      0.000000     -3.400000   \n",
       "25%       32.00000      1.000000    999.000000      0.000000     -1.800000   \n",
       "50%       38.00000      2.000000    999.000000      0.000000      1.100000   \n",
       "75%       47.00000      3.000000    999.000000      0.000000      1.400000   \n",
       "max       98.00000     56.000000    999.000000      7.000000      1.400000   \n",
       "\n",
       "       cons.price.idx  cons.conf.idx     euribor3m   nr.employed  \n",
       "count    41188.000000   41188.000000  41188.000000  41188.000000  \n",
       "mean        93.575664     -40.502600      3.621291   5167.035911  \n",
       "std          0.578840       4.628198      1.734447     72.251528  \n",
       "min         92.201000     -50.800000      0.634000   4963.600000  \n",
       "25%         93.075000     -42.700000      1.344000   5099.100000  \n",
       "50%         93.749000     -41.800000      4.857000   5191.000000  \n",
       "75%         93.994000     -36.400000      4.961000   5228.100000  \n",
       "max         94.767000     -26.900000      5.045000   5228.100000  "
      ]
     },
     "execution_count": 8,
     "metadata": {},
     "output_type": "execute_result"
    }
   ],
   "source": [
    "df.describe()"
   ]
  },
  {
   "cell_type": "code",
   "execution_count": 9,
   "id": "6dc14ccc",
   "metadata": {
    "execution": {
     "iopub.execute_input": "2022-11-07T16:32:21.692215Z",
     "iopub.status.busy": "2022-11-07T16:32:21.691822Z",
     "iopub.status.idle": "2022-11-07T16:32:21.700250Z",
     "shell.execute_reply": "2022-11-07T16:32:21.698938Z"
    },
    "papermill": {
     "duration": 0.01809,
     "end_time": "2022-11-07T16:32:21.703016",
     "exception": false,
     "start_time": "2022-11-07T16:32:21.684926",
     "status": "completed"
    },
    "tags": []
   },
   "outputs": [
    {
     "data": {
      "text/plain": [
       "Index(['age', 'job', 'marital', 'education', 'default', 'housing', 'loan',\n",
       "       'contact', 'month', 'day_of_week', 'campaign', 'pdays', 'previous',\n",
       "       'poutcome', 'emp.var.rate', 'cons.price.idx', 'cons.conf.idx',\n",
       "       'euribor3m', 'nr.employed', 'y'],\n",
       "      dtype='object')"
      ]
     },
     "execution_count": 9,
     "metadata": {},
     "output_type": "execute_result"
    }
   ],
   "source": [
    "df.columns"
   ]
  },
  {
   "cell_type": "code",
   "execution_count": 10,
   "id": "d80df246",
   "metadata": {
    "execution": {
     "iopub.execute_input": "2022-11-07T16:32:21.717851Z",
     "iopub.status.busy": "2022-11-07T16:32:21.716453Z",
     "iopub.status.idle": "2022-11-07T16:32:21.727231Z",
     "shell.execute_reply": "2022-11-07T16:32:21.726037Z"
    },
    "papermill": {
     "duration": 0.020149,
     "end_time": "2022-11-07T16:32:21.729202",
     "exception": false,
     "start_time": "2022-11-07T16:32:21.709053",
     "status": "completed"
    },
    "tags": []
   },
   "outputs": [
    {
     "data": {
      "text/plain": [
       "admin.           10422\n",
       "blue-collar       9254\n",
       "technician        6743\n",
       "services          3969\n",
       "management        2924\n",
       "retired           1720\n",
       "entrepreneur      1456\n",
       "self-employed     1421\n",
       "housemaid         1060\n",
       "unemployed        1014\n",
       "student            875\n",
       "unknown            330\n",
       "Name: job, dtype: int64"
      ]
     },
     "execution_count": 10,
     "metadata": {},
     "output_type": "execute_result"
    }
   ],
   "source": [
    "df['job'].value_counts()"
   ]
  },
  {
   "cell_type": "code",
   "execution_count": 11,
   "id": "85886fb9",
   "metadata": {
    "execution": {
     "iopub.execute_input": "2022-11-07T16:32:21.742932Z",
     "iopub.status.busy": "2022-11-07T16:32:21.741927Z",
     "iopub.status.idle": "2022-11-07T16:32:21.757251Z",
     "shell.execute_reply": "2022-11-07T16:32:21.755612Z"
    },
    "papermill": {
     "duration": 0.024994,
     "end_time": "2022-11-07T16:32:21.760031",
     "exception": false,
     "start_time": "2022-11-07T16:32:21.735037",
     "status": "completed"
    },
    "tags": []
   },
   "outputs": [],
   "source": [
    "df.replace(\"unknown\", np.nan, inplace = True)"
   ]
  },
  {
   "cell_type": "code",
   "execution_count": 12,
   "id": "d37747cf",
   "metadata": {
    "execution": {
     "iopub.execute_input": "2022-11-07T16:32:21.774116Z",
     "iopub.status.busy": "2022-11-07T16:32:21.773650Z",
     "iopub.status.idle": "2022-11-07T16:32:21.799214Z",
     "shell.execute_reply": "2022-11-07T16:32:21.798483Z"
    },
    "papermill": {
     "duration": 0.03499,
     "end_time": "2022-11-07T16:32:21.801092",
     "exception": false,
     "start_time": "2022-11-07T16:32:21.766102",
     "status": "completed"
    },
    "tags": []
   },
   "outputs": [
    {
     "data": {
      "text/plain": [
       "age                  0\n",
       "job                330\n",
       "marital             80\n",
       "education         1731\n",
       "default           8597\n",
       "housing            990\n",
       "loan               990\n",
       "contact              0\n",
       "month                0\n",
       "day_of_week          0\n",
       "campaign             0\n",
       "pdays                0\n",
       "previous             0\n",
       "poutcome             0\n",
       "emp.var.rate         0\n",
       "cons.price.idx       0\n",
       "cons.conf.idx        0\n",
       "euribor3m            0\n",
       "nr.employed          0\n",
       "y                    0\n",
       "dtype: int64"
      ]
     },
     "execution_count": 12,
     "metadata": {},
     "output_type": "execute_result"
    }
   ],
   "source": [
    "df.isna().sum()"
   ]
  },
  {
   "cell_type": "code",
   "execution_count": 13,
   "id": "abac2b78",
   "metadata": {
    "execution": {
     "iopub.execute_input": "2022-11-07T16:32:21.815877Z",
     "iopub.status.busy": "2022-11-07T16:32:21.814345Z",
     "iopub.status.idle": "2022-11-07T16:32:21.826512Z",
     "shell.execute_reply": "2022-11-07T16:32:21.825177Z"
    },
    "papermill": {
     "duration": 0.021392,
     "end_time": "2022-11-07T16:32:21.828598",
     "exception": false,
     "start_time": "2022-11-07T16:32:21.807206",
     "status": "completed"
    },
    "tags": []
   },
   "outputs": [
    {
     "data": {
      "text/plain": [
       "no     33950\n",
       "yes     6248\n",
       "Name: loan, dtype: int64"
      ]
     },
     "execution_count": 13,
     "metadata": {},
     "output_type": "execute_result"
    }
   ],
   "source": [
    "df['loan'].value_counts()"
   ]
  },
  {
   "cell_type": "code",
   "execution_count": 14,
   "id": "4b9ed435",
   "metadata": {
    "execution": {
     "iopub.execute_input": "2022-11-07T16:32:21.842079Z",
     "iopub.status.busy": "2022-11-07T16:32:21.841679Z",
     "iopub.status.idle": "2022-11-07T16:32:21.849459Z",
     "shell.execute_reply": "2022-11-07T16:32:21.848362Z"
    },
    "papermill": {
     "duration": 0.017293,
     "end_time": "2022-11-07T16:32:21.851992",
     "exception": false,
     "start_time": "2022-11-07T16:32:21.834699",
     "status": "completed"
    },
    "tags": []
   },
   "outputs": [],
   "source": [
    "df[\"job\"].replace(np.nan, \"admin.\", inplace=True)"
   ]
  },
  {
   "cell_type": "code",
   "execution_count": 15,
   "id": "7b217df4",
   "metadata": {
    "execution": {
     "iopub.execute_input": "2022-11-07T16:32:21.866554Z",
     "iopub.status.busy": "2022-11-07T16:32:21.865932Z",
     "iopub.status.idle": "2022-11-07T16:32:21.873110Z",
     "shell.execute_reply": "2022-11-07T16:32:21.871977Z"
    },
    "papermill": {
     "duration": 0.017182,
     "end_time": "2022-11-07T16:32:21.875441",
     "exception": false,
     "start_time": "2022-11-07T16:32:21.858259",
     "status": "completed"
    },
    "tags": []
   },
   "outputs": [],
   "source": [
    "df[\"marital\"].replace(np.nan, \"married.\", inplace=True)"
   ]
  },
  {
   "cell_type": "code",
   "execution_count": 16,
   "id": "9dd1f768",
   "metadata": {
    "execution": {
     "iopub.execute_input": "2022-11-07T16:32:21.889871Z",
     "iopub.status.busy": "2022-11-07T16:32:21.889269Z",
     "iopub.status.idle": "2022-11-07T16:32:21.895913Z",
     "shell.execute_reply": "2022-11-07T16:32:21.895175Z"
    },
    "papermill": {
     "duration": 0.016758,
     "end_time": "2022-11-07T16:32:21.898384",
     "exception": false,
     "start_time": "2022-11-07T16:32:21.881626",
     "status": "completed"
    },
    "tags": []
   },
   "outputs": [],
   "source": [
    "df[\"education\"].replace(np.nan, \"university.degree\", inplace=True)"
   ]
  },
  {
   "cell_type": "code",
   "execution_count": 17,
   "id": "3df5bf38",
   "metadata": {
    "execution": {
     "iopub.execute_input": "2022-11-07T16:32:21.912775Z",
     "iopub.status.busy": "2022-11-07T16:32:21.912232Z",
     "iopub.status.idle": "2022-11-07T16:32:21.918760Z",
     "shell.execute_reply": "2022-11-07T16:32:21.918053Z"
    },
    "papermill": {
     "duration": 0.01644,
     "end_time": "2022-11-07T16:32:21.921168",
     "exception": false,
     "start_time": "2022-11-07T16:32:21.904728",
     "status": "completed"
    },
    "tags": []
   },
   "outputs": [],
   "source": [
    "df[\"default\"].replace(np.nan, \"no\", inplace=True)"
   ]
  },
  {
   "cell_type": "code",
   "execution_count": 18,
   "id": "4eec42f6",
   "metadata": {
    "execution": {
     "iopub.execute_input": "2022-11-07T16:32:21.935448Z",
     "iopub.status.busy": "2022-11-07T16:32:21.934882Z",
     "iopub.status.idle": "2022-11-07T16:32:21.941162Z",
     "shell.execute_reply": "2022-11-07T16:32:21.940349Z"
    },
    "papermill": {
     "duration": 0.016222,
     "end_time": "2022-11-07T16:32:21.943543",
     "exception": false,
     "start_time": "2022-11-07T16:32:21.927321",
     "status": "completed"
    },
    "tags": []
   },
   "outputs": [],
   "source": [
    "df[\"housing\"].replace(np.nan, \"yes\", inplace=True)"
   ]
  },
  {
   "cell_type": "code",
   "execution_count": 19,
   "id": "63244bd6",
   "metadata": {
    "execution": {
     "iopub.execute_input": "2022-11-07T16:32:21.958180Z",
     "iopub.status.busy": "2022-11-07T16:32:21.957793Z",
     "iopub.status.idle": "2022-11-07T16:32:21.965443Z",
     "shell.execute_reply": "2022-11-07T16:32:21.964275Z"
    },
    "papermill": {
     "duration": 0.017205,
     "end_time": "2022-11-07T16:32:21.967589",
     "exception": false,
     "start_time": "2022-11-07T16:32:21.950384",
     "status": "completed"
    },
    "tags": []
   },
   "outputs": [],
   "source": [
    "df[\"loan\"].replace(np.nan, \"no\", inplace=True)"
   ]
  },
  {
   "cell_type": "code",
   "execution_count": null,
   "id": "2e138988",
   "metadata": {
    "papermill": {
     "duration": 0.005612,
     "end_time": "2022-11-07T16:32:21.979238",
     "exception": false,
     "start_time": "2022-11-07T16:32:21.973626",
     "status": "completed"
    },
    "tags": []
   },
   "outputs": [],
   "source": []
  }
 ],
 "metadata": {
  "kernelspec": {
   "display_name": "Python 3",
   "language": "python",
   "name": "python3"
  },
  "language_info": {
   "codemirror_mode": {
    "name": "ipython",
    "version": 3
   },
   "file_extension": ".py",
   "mimetype": "text/x-python",
   "name": "python",
   "nbconvert_exporter": "python",
   "pygments_lexer": "ipython3",
   "version": "3.7.12"
  },
  "papermill": {
   "default_parameters": {},
   "duration": 10.408712,
   "end_time": "2022-11-07T16:32:22.705287",
   "environment_variables": {},
   "exception": null,
   "input_path": "__notebook__.ipynb",
   "output_path": "__notebook__.ipynb",
   "parameters": {},
   "start_time": "2022-11-07T16:32:12.296575",
   "version": "2.3.4"
  }
 },
 "nbformat": 4,
 "nbformat_minor": 5
}
